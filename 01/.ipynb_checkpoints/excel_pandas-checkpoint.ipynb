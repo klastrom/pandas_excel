{
 "cells": [
  {
   "cell_type": "code",
   "execution_count": null,
   "metadata": {},
   "outputs": [],
   "source": [
    "import pandas as pd\n",
    "from glob import glob"
   ]
  },
  {
   "cell_type": "code",
   "execution_count": null,
   "metadata": {},
   "outputs": [],
   "source": [
    "filepaths = glob('source/*.xlsx')\n",
    "filepaths"
   ]
  },
  {
   "cell_type": "code",
   "execution_count": null,
   "metadata": {},
   "outputs": [],
   "source": [
    "filepath = filepaths[0]"
   ]
  },
  {
   "cell_type": "code",
   "execution_count": null,
   "metadata": {},
   "outputs": [],
   "source": [
    "filepath"
   ]
  },
  {
   "cell_type": "code",
   "execution_count": null,
   "metadata": {},
   "outputs": [],
   "source": [
    "!pip3 install xlrd"
   ]
  },
  {
   "cell_type": "code",
   "execution_count": null,
   "metadata": {},
   "outputs": [],
   "source": [
    "!pip install openpyxl"
   ]
  },
  {
   "cell_type": "code",
   "execution_count": null,
   "metadata": {},
   "outputs": [],
   "source": [
    "#アンインストールすることもあるので覚えておく\n",
    "#!pip3 uninstall xlrd"
   ]
  },
  {
   "cell_type": "code",
   "execution_count": null,
   "metadata": {},
   "outputs": [],
   "source": [
    "#一時的にデータを表示するときにアンダーバーをつけること\n",
    "#Nanが多い　セルの結合がされてる時に面倒であるが一つ一つ読み解いていくことが重要である\n",
    "_df = pd.read_excel(filepath)\n",
    "_df "
   ]
  },
  {
   "cell_type": "code",
   "execution_count": null,
   "metadata": {},
   "outputs": [],
   "source": [
    "#データの抽出\n",
    "#meta情報の取得（御中・伝票番号・\n",
    "#カラムから取得する１０行目を取得\n",
    "columns = _df.iloc[10,[1,2,4,10,11,14]]\n",
    "columns"
   ]
  },
  {
   "cell_type": "code",
   "execution_count": null,
   "metadata": {},
   "outputs": [],
   "source": [
    "df = _df.iloc[11:23,[1,2,4,10,1,14]]"
   ]
  },
  {
   "cell_type": "code",
   "execution_count": null,
   "metadata": {},
   "outputs": [],
   "source": [
    "df.columns = columns"
   ]
  },
  {
   "cell_type": "code",
   "execution_count": null,
   "metadata": {},
   "outputs": [],
   "source": [
    "df"
   ]
  },
  {
   "cell_type": "code",
   "execution_count": null,
   "metadata": {},
   "outputs": [],
   "source": [
    "df['企業名'] = _df.iloc[2,0]"
   ]
  },
  {
   "cell_type": "code",
   "execution_count": null,
   "metadata": {},
   "outputs": [],
   "source": [
    "df.head()"
   ]
  },
  {
   "cell_type": "code",
   "execution_count": null,
   "metadata": {},
   "outputs": [],
   "source": [
    "df['企業コード']= _df.iloc[3,4]\n",
    "df['請求書No']= _df.iloc[2,12]\n",
    "df['発行日']= _df.iloc[3,12]\n",
    "df['発行者']= _df.iloc[4,12]\n",
    "df['発行者コード']= _df.iloc[4,13]\n"
   ]
  },
  {
   "cell_type": "code",
   "execution_count": null,
   "metadata": {},
   "outputs": [],
   "source": [
    "df"
   ]
  },
  {
   "cell_type": "code",
   "execution_count": null,
   "metadata": {},
   "outputs": [],
   "source": [
    "#関数化\n",
    "#Excelを読み込む\n",
    "#絡むを取り出す\n",
    "#メインのデータを抽出\n",
    "#カラム名を再定義\n",
    "#メタ情報を追加\n",
    "def extract(filepath):\n",
    "    _df = pd.read_excel(filepath)\n",
    "    columns = _df.iloc[10,[1,2,4,10,11,14]]\n",
    "    df = _df.iloc[11:23,[1,2,4,10,1,14]]\n",
    "    df.columns = columns\n",
    "    df['企業名'] = _df.iloc[2,0]\n",
    "    df['企業コード']= _df.iloc[3,4]\n",
    "    df['請求書No']= _df.iloc[2,12]\n",
    "    df['発行日']= _df.iloc[3,12]\n",
    "    df['発行者']= _df.iloc[4,12]\n",
    "    df['発行者コード']= _df.iloc[4,13]\n",
    "    return df"
   ]
  },
  {
   "cell_type": "code",
   "execution_count": null,
   "metadata": {},
   "outputs": [],
   "source": [
    "extract(filepath)"
   ]
  },
  {
   "cell_type": "code",
   "execution_count": null,
   "metadata": {},
   "outputs": [],
   "source": []
  },
  {
   "cell_type": "code",
   "execution_count": null,
   "metadata": {},
   "outputs": [],
   "source": []
  }
 ],
 "metadata": {
  "kernelspec": {
   "display_name": "Python 3",
   "language": "python",
   "name": "python3"
  },
  "language_info": {
   "codemirror_mode": {
    "name": "ipython",
    "version": 3
   },
   "file_extension": ".py",
   "mimetype": "text/x-python",
   "name": "python",
   "nbconvert_exporter": "python",
   "pygments_lexer": "ipython3",
   "version": "3.8.5"
  }
 },
 "nbformat": 4,
 "nbformat_minor": 4
}

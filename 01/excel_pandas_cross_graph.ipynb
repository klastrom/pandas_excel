{
 "cells": [
  {
   "cell_type": "code",
   "execution_count": 1,
   "metadata": {},
   "outputs": [],
   "source": [
    "import pandas as pd\n",
    "from glob import glob"
   ]
  },
  {
   "cell_type": "code",
   "execution_count": 4,
   "metadata": {},
   "outputs": [
    {
     "data": {
      "text/plain": [
       "['source/請求書_12月_株式会社ABC.xlsx',\n",
       " 'source/請求書_10月_TTTInc.xlsx',\n",
       " 'source/請求書_11月_XYZ株式会社.xlsx']"
      ]
     },
     "execution_count": 4,
     "metadata": {},
     "output_type": "execute_result"
    }
   ],
   "source": [
    "filepaths = glob('source/請求書*.xlsx')\n",
    "filepaths"
   ]
  },
  {
   "cell_type": "code",
   "execution_count": 5,
   "metadata": {},
   "outputs": [],
   "source": [
    "def extract(filepath):\n",
    "    _df = pd.read_excel(filepath)\n",
    "    columns = _df.iloc[10,[1,2,4,10,11,14]]\n",
    "    df = _df.iloc[11:23,[1,2,4,10,1,14]]\n",
    "    df.columns = columns\n",
    "    df['企業名'] = _df.iloc[2,0]\n",
    "    df['企業コード']= _df.iloc[3,4]\n",
    "    df['請求書No']= _df.iloc[2,12]\n",
    "    df['発行日']= _df.iloc[3,12]\n",
    "    df['発行者']= _df.iloc[4,12]\n",
    "    df['発行者コード']= _df.iloc[4,13]\n",
    "    return df"
   ]
  },
  {
   "cell_type": "code",
   "execution_count": 7,
   "metadata": {},
   "outputs": [],
   "source": [
    "df = pd.DataFrame()\n",
    "\n",
    "for filepath in filepaths:\n",
    "    df = pd.concat([df,extract(filepath)])"
   ]
  },
  {
   "cell_type": "code",
   "execution_count": 9,
   "metadata": {},
   "outputs": [
    {
     "data": {
      "text/plain": [
       "36"
      ]
     },
     "execution_count": 9,
     "metadata": {},
     "output_type": "execute_result"
    }
   ],
   "source": [
    "len(df)"
   ]
  },
  {
   "cell_type": "code",
   "execution_count": null,
   "metadata": {},
   "outputs": [],
   "source": []
  }
 ],
 "metadata": {
  "kernelspec": {
   "display_name": "Python 3",
   "language": "python",
   "name": "python3"
  },
  "language_info": {
   "codemirror_mode": {
    "name": "ipython",
    "version": 3
   },
   "file_extension": ".py",
   "mimetype": "text/x-python",
   "name": "python",
   "nbconvert_exporter": "python",
   "pygments_lexer": "ipython3",
   "version": "3.8.5"
  }
 },
 "nbformat": 4,
 "nbformat_minor": 4
}
